{
 "cells": [
  {
   "cell_type": "markdown",
   "metadata": {},
   "source": [
    "# Introduction"
   ]
  },
  {
   "cell_type": "markdown",
   "metadata": {},
   "source": [
    "We need to set up the data loading function, which will involve many moving parts. I have generated networkx objects that can be read in but the code base for [U2GNN](https://github.com/daiquocnguyen/Graph-Transformer) does not take those, and instead takes in S2Vgraph objects "
   ]
  },
  {
   "cell_type": "markdown",
   "metadata": {},
   "source": [
    "## Installing Packages"
   ]
  },
  {
   "cell_type": "markdown",
   "metadata": {},
   "source": [
    "Installing the relevant packages to the VM. From the repo, seems like we will need\n",
    "* Python 3.x\n",
    "* Tensorflow 1.14 & Tensor2tensor 1.13\n",
    "* Pytorch >= 1.5.0\n",
    "* Networkx 2.3\n",
    "* Scikit-learn 0.21.2"
   ]
  },
  {
   "cell_type": "code",
   "execution_count": 1,
   "metadata": {},
   "outputs": [],
   "source": [
    "!pip install -q --upgrade pip\n",
    "!pip install -q torch==2.0.1\n",
    "!pip install -q 'matplotlib<3.7'\n",
    "!pip install -q scikit-spatial\n",
    "!pip install -q networkx\n",
    "!pip install -q scikit-learn\n",
    "!pip install -q umap-learn"
   ]
  },
  {
   "cell_type": "code",
   "execution_count": 2,
   "metadata": {},
   "outputs": [
    {
     "name": "stdout",
     "output_type": "stream",
     "text": [
      "2.0.1+cu117\n",
      "True\n",
      "2.0.1+cu117\n",
      "11.7\n",
      "0\n",
      "Tesla T4\n"
     ]
    }
   ],
   "source": [
    "# Install required packages.\n",
    "import os\n",
    "import torch\n",
    "os.environ['TORCH'] = torch.__version__\n",
    "print(torch.__version__)\n",
    "\n",
    "!pip install -q torch-scatter -f https://data.pyg.org/whl/torch-${TORCH}.html\n",
    "!pip install -q torch-sparse -f https://data.pyg.org/whl/torch-${TORCH}.html\n",
    "!pip install -q git+https://github.com/pyg-team/pytorch_geometric.git\n",
    "\n",
    "print(torch.cuda.is_available())\n",
    "print(torch.__version__)\n",
    "print(torch.version.cuda)\n",
    "print(torch.cuda.current_device())\n",
    "print(torch.cuda.get_device_name())"
   ]
  },
  {
   "cell_type": "markdown",
   "metadata": {
    "heading_collapsed": true
   },
   "source": [
    "## Importing Packages"
   ]
  },
  {
   "cell_type": "code",
   "execution_count": 3,
   "metadata": {
    "hidden": true
   },
   "outputs": [],
   "source": [
    "import os\n",
    "import pandas as pd\n",
    "import numpy as np\n",
    "import networkx as nx\n",
    "import torch\n",
    "import torch_geometric\n",
    "import sklearn\n",
    "import matplotlib.pyplot as plt\n",
    "from tqdm import tqdm\n",
    "from joblib import Parallel, delayed\n",
    "import multiprocessing\n",
    "import pickle\n",
    "import re\n",
    "import scipy.sparse as sp\n",
    "from sklearn.model_selection import StratifiedKFold"
   ]
  },
  {
   "cell_type": "markdown",
   "metadata": {
    "heading_collapsed": true
   },
   "source": [
    "## Cloning github repo"
   ]
  },
  {
   "cell_type": "code",
   "execution_count": 4,
   "metadata": {
    "hidden": true
   },
   "outputs": [],
   "source": [
    "home_dir = os.getcwd()"
   ]
  },
  {
   "cell_type": "code",
   "execution_count": 5,
   "metadata": {
    "hidden": true
   },
   "outputs": [
    {
     "name": "stdout",
     "output_type": "stream",
     "text": [
      "Cloning into '/home/jupyter/complex_SVs/edit/u2gnn'...\n",
      "remote: Enumerating objects: 700, done.\u001b[K\n",
      "remote: Counting objects: 100% (485/485), done.\u001b[K\n",
      "remote: Compressing objects: 100% (245/245), done.\u001b[K\n",
      "remote: Total 700 (delta 273), reused 436 (delta 237), pack-reused 215\u001b[K\n",
      "Receiving objects: 100% (700/700), 112.09 MiB | 35.88 MiB/s, done.\n",
      "Resolving deltas: 100% (398/398), done.\n"
     ]
    }
   ],
   "source": [
    "git_repo_dir = home_dir + '/u2gnn'\n",
    "!rm -rf $git_repo_dir\n",
    "!mkdir $git_repo_dir\n",
    "!cd $git_repo_dir\n",
    "!git clone https://github.com/daiquocnguyen/Graph-Transformer.git $git_repo_dir"
   ]
  },
  {
   "cell_type": "markdown",
   "metadata": {
    "hidden": true
   },
   "source": [
    "[This issue](https://github.com/daiquocnguyen/Graph-Transformer/issues/8) says we have to make `LogUniformSampler` "
   ]
  },
  {
   "cell_type": "code",
   "execution_count": 6,
   "metadata": {
    "hidden": true
   },
   "outputs": [],
   "source": [
    "%%capture\n",
    "os.chdir(home_dir)\n",
    "# Compile the log uniform sampler\n",
    "log_unif_dir = git_repo_dir + '/UGformerV1_PyTorch/log_uniform/'\n",
    "os.chdir(log_unif_dir)\n",
    "!make\n",
    "os.chdir(home_dir)\n",
    "# Set it in pythonpath\n",
    "os.environ[\"PYTHONPATH\"] = os.path.abspath(log_unif_dir) + ':' + \\\n",
    "    os.path.abspath(git_repo_dir + '/UGformerV1_PyTorch/') + ':' + \\\n",
    "    os.environ[\"PYTHONPATH\"] \n",
    "os.environ[\"PYTHONPATH\"] = re.sub(\n",
    "    '/home/jupyter/complex_SVs/edit/u2gnn/UGformerV1_PyTorch/log_uniform:/home/jupyter/complex_SVs/edit/u2gnn/UGformerV1_PyTorch/log_uniform',\n",
    "    '/home/jupyter/complex_SVs/edit/u2gnn/UGformerV1_PyTorch/log_uniform',\n",
    "    os.environ[\"PYTHONPATH\"]\n",
    ")\n",
    "os.environ[\"PATH\"] = os.path.abspath(log_unif_dir) + ':' + \\\n",
    "    os.path.abspath(git_repo_dir + '/UGformerV1_PyTorch/') + ':' + \\\n",
    "    os.environ[\"PATH\"]\n",
    "os.environ[\"PATH\"] = re.sub(\n",
    "    '/home/jupyter/complex_SVs/edit/u2gnn/UGformerV1_PyTorch/log_uniform:/home/jupyter/complex_SVs/edit/u2gnn/UGformerV1_PyTorch/log_uniform',\n",
    "    '/home/jupyter/complex_SVs/edit/u2gnn/UGformerV1_PyTorch/log_uniform',\n",
    "    os.environ[\"PATH\"]\n",
    ")"
   ]
  },
  {
   "cell_type": "code",
   "execution_count": 7,
   "metadata": {
    "hidden": true
   },
   "outputs": [
    {
     "name": "stdout",
     "output_type": "stream",
     "text": [
      "/home/jupyter/complex_SVs/edit/u2gnn/UGformerV1_PyTorch/log_uniform:/home/jupyter/complex_SVs/edit/u2gnn/UGformerV1_PyTorch:/etc/jupyter/custom:/usr/lib/spark/python:/home/jupyter/packages\n",
      "/home/jupyter/complex_SVs/edit/u2gnn/UGformerV1_PyTorch/log_uniform:/home/jupyter/complex_SVs/edit/u2gnn/UGformerV1_PyTorch:/opt/conda/bin:/usr/local/nvidia/bin:/usr/local/cuda/bin:/usr/local/sbin:/usr/local/bin:/usr/sbin:/usr/bin:/sbin:/bin:/home/jupyter/.local/bin:/home/jupyter/packages/bin\n"
     ]
    }
   ],
   "source": [
    "print(os.environ[\"PYTHONPATH\"])\n",
    "print(os.environ[\"PATH\"])"
   ]
  },
  {
   "cell_type": "markdown",
   "metadata": {
    "heading_collapsed": true
   },
   "source": [
    "## Localizing data from the bucket"
   ]
  },
  {
   "cell_type": "code",
   "execution_count": 8,
   "metadata": {
    "hidden": true
   },
   "outputs": [],
   "source": [
    "BILLING_PROJECT_ID = os.environ['WORKSPACE_NAMESPACE']\n",
    "WORKSPACE = os.environ['WORKSPACE_NAME']\n",
    "bucket = os.environ['WORKSPACE_BUCKET']"
   ]
  },
  {
   "cell_type": "code",
   "execution_count": 9,
   "metadata": {
    "hidden": true
   },
   "outputs": [
    {
     "name": "stdout",
     "output_type": "stream",
     "text": [
      "/home/jupyter/complex_SVs/edit/test.txt\r\n"
     ]
    }
   ],
   "source": [
    "# Copy all files from the workspace bucket to the notebook disk\n",
    "!gsutil -q cp -n $bucket/test_graphs/test.txt $home_dir\n",
    "\n",
    "# Run list command to see if file is in the notebook disk\n",
    "!readlink -m ./test.txt"
   ]
  },
  {
   "cell_type": "markdown",
   "metadata": {
    "heading_collapsed": true
   },
   "source": [
    "## Reading in graphs"
   ]
  },
  {
   "cell_type": "code",
   "execution_count": 10,
   "metadata": {
    "hidden": true
   },
   "outputs": [
    {
     "data": {
      "image/png": "[encoded data removed]",
      "text/plain": [
       "<Figure size 640x480 with 1 Axes>"
      ]
     },
     "metadata": {},
     "output_type": "display_data"
    }
   ],
   "source": [
    "G = pickle.load(open(\"./test.txt\", 'rb'))\n",
    "nx.draw_networkx(\n",
    "    G.subgraph([n for n in G.nodes if 'efe4d5dd-fffb-41df-ab86-be06cc16646f_19_' in n]), \n",
    "    node_size = 10, with_labels = False, alpha = 0.8, linewidths = 4\n",
    ")"
   ]
  },
  {
   "cell_type": "markdown",
   "metadata": {},
   "source": [
    "# Convert Nx graph to S2VGraph"
   ]
  },
  {
   "cell_type": "markdown",
   "metadata": {
    "heading_collapsed": true
   },
   "source": [
    "## S2VGraph Definition"
   ]
  },
  {
   "cell_type": "code",
   "execution_count": 11,
   "metadata": {
    "hidden": true
   },
   "outputs": [],
   "source": [
    "\"\"\"Adapted from https://github.com/weihua916/powerful-gnns/blob/master/util.py\"\"\"\n",
    "\n",
    "class S2VGraph(object):\n",
    "    def __init__(self, g, label, node_tags=None, node_features=None):\n",
    "        '''\n",
    "            g: a networkx graph\n",
    "            label: an integer graph label\n",
    "            node_tags: a list of integer node tags\n",
    "            node_features: a torch float tensor, one-hot representation of the tag that is used as input to neural nets\n",
    "            edge_mat: a torch long tensor, contain edge list, will be used to create torch sparse tensor\n",
    "            neighbors: list of neighbors (without self-loop)\n",
    "        '''\n",
    "        self.label = label\n",
    "        self.g = g\n",
    "        self.node_tags = node_tags\n",
    "        self.neighbors = []\n",
    "        self.node_features = 0\n",
    "        self.edge_mat = 0\n",
    "        self.max_neighbor = 0"
   ]
  },
  {
   "cell_type": "markdown",
   "metadata": {
    "heading_collapsed": true
   },
   "source": [
    "## Loading Data Function"
   ]
  },
  {
   "cell_type": "markdown",
   "metadata": {
    "hidden": true
   },
   "source": [
    "**Input for the load data function will be a list of strings indicating where the graphs are located on disk**"
   ]
  },
  {
   "cell_type": "code",
   "execution_count": 12,
   "metadata": {
    "hidden": true
   },
   "outputs": [],
   "source": [
    "def create_s2v(graph_file):\n",
    "    G = pickle.load(open(graph_file, 'rb'))\n",
    "    # relabel nodes to integer\n",
    "    G = nx.relabel_nodes(G, {n: int(re.sub('.*_', '',n)) for n in G.nodes})\n",
    "    # use fake label of 0 for everything\n",
    "    return S2VGraph(G, label = 0)\n",
    "\n",
    "def load_data_from_nx(graph_files):\n",
    "    num_cores = multiprocessing.cpu_count()\n",
    "    g_list = Parallel(n_jobs = num_cores)(\n",
    "        delayed(create_s2v)(graph_file) for graph_file in graph_files if len(pickle.load(open(graph_file, 'rb')).edges()) > 0\n",
    "    )\n",
    "\n",
    "    #add edge_mat and node_features     \n",
    "    for g in g_list:\n",
    "        # adding .neighbors\n",
    "        g.neighbors = [[] for i in range(len(g.g))]\n",
    "        for i, j in g.g.edges():\n",
    "            g.neighbors[i].append(j)\n",
    "            g.neighbors[j].append(i)\n",
    "        degree_list = []\n",
    "        for i in range(len(g.g)):\n",
    "            g.neighbors[i] = g.neighbors[i]\n",
    "            degree_list.append(len(g.neighbors[i]))\n",
    "        # adding .max_neighbor\n",
    "        g.max_neighbor = max(degree_list)\n",
    "\n",
    "        #g.label = label_dict[g.label]\n",
    "\n",
    "        # adding edge_mat\n",
    "        edges = [list(pair) for pair in g.g.edges()]\n",
    "        edges.extend([[i, j] for j, i in edges])\n",
    "        g.edge_mat = np.transpose(np.array(edges, dtype=np.int32), (1,0))\n",
    "        # deg_list = list(dict(g.g.degree(range(len(g.g)))).values())\n",
    "\n",
    "        # node features\n",
    "        g.node_features = np.array([\n",
    "            np.array(list(g.g.nodes()[i].values()), dtype=np.float32) \n",
    "            for i in g.g.nodes()\n",
    "        ])\n",
    "        \n",
    "    return g_list"
   ]
  },
  {
   "cell_type": "markdown",
   "metadata": {
    "heading_collapsed": true
   },
   "source": [
    "## Load S2VGraphs From the Bucket"
   ]
  },
  {
   "cell_type": "code",
   "execution_count": 13,
   "metadata": {
    "hidden": true
   },
   "outputs": [
    {
     "name": "stdout",
     "output_type": "stream",
     "text": [
      "14629\r\n"
     ]
    }
   ],
   "source": [
    "# Copy all files from the workspace bucket to the notebook disk\n",
    "graph_dir = home_dir + '/graphs'\n",
    "!mkdir -p $graph_dir\n",
    "!gsutil -q cp -n $bucket/nx_graphs/nx/* $graph_dir\n",
    "!ls -l $graph_dir | wc -l\n",
    "# input list of graph text files\n",
    "nx_files = [\n",
    "    graph_dir + '/' + f for f in os.listdir(graph_dir) if f.endswith('_nx_graph.txt')\n",
    "]"
   ]
  },
  {
   "cell_type": "markdown",
   "metadata": {
    "heading_collapsed": true
   },
   "source": [
    "# Other Util Methods"
   ]
  },
  {
   "cell_type": "code",
   "execution_count": 14,
   "metadata": {
    "hidden": true
   },
   "outputs": [],
   "source": [
    "\"\"\"Get indexes of train and test sets\"\"\"\n",
    "def separate_data_idx(graph_list, fold_idx, seed=0):\n",
    "    assert 0 <= fold_idx and fold_idx < 10, \"fold_idx must be from 0 to 9.\"\n",
    "    skf = StratifiedKFold(n_splits=10, shuffle=True, random_state=seed)\n",
    "\n",
    "    labels = [graph.label for graph in graph_list]\n",
    "    idx_list = []\n",
    "    for idx in skf.split(np.zeros(len(labels)), labels):\n",
    "        idx_list.append(idx)\n",
    "    train_idx, test_idx = idx_list[fold_idx]\n",
    "\n",
    "    return train_idx, test_idx"
   ]
  },
  {
   "cell_type": "code",
   "execution_count": 15,
   "metadata": {
    "hidden": true
   },
   "outputs": [],
   "source": [
    "\"\"\"Convert sparse matrix to tuple representation.\"\"\"\n",
    "def sparse_to_tuple(sparse_mx):\n",
    "    def to_tuple(mx):\n",
    "        if not sp.isspmatrix_coo(mx):\n",
    "            mx = mx.tocoo()\n",
    "        coords = np.vstack((mx.row, mx.col)).transpose()\n",
    "        values = mx.data\n",
    "        shape = mx.shape\n",
    "        return coords, values, shape\n",
    "\n",
    "    if isinstance(sparse_mx, list):\n",
    "        for i in range(len(sparse_mx)):\n",
    "            sparse_mx[i] = to_tuple(sparse_mx[i])\n",
    "    else:\n",
    "        sparse_mx = to_tuple(sparse_mx)\n",
    "\n",
    "    return sparse_mx"
   ]
  },
  {
   "cell_type": "markdown",
   "metadata": {},
   "source": [
    "# Train Unsupervised Model"
   ]
  },
  {
   "cell_type": "markdown",
   "metadata": {
    "heading_collapsed": true
   },
   "source": [
    "## Importing the necessary functions in the repo"
   ]
  },
  {
   "cell_type": "code",
   "execution_count": 16,
   "metadata": {
    "hidden": true
   },
   "outputs": [],
   "source": [
    "import math\n",
    "import torch\n",
    "import torch.nn as nn\n",
    "import torch.nn.functional as F\n",
    "torch.manual_seed(123)\n",
    "\n",
    "import numpy as np\n",
    "np.random.seed(123)\n",
    "import time\n",
    "\n",
    "# ==================== ADDITIONAL CODE TO MAKE IMPORT WORK ====================\n",
    "import sys \n",
    "import pyximport\n",
    "sys.path.append(os.path.abspath(git_repo_dir+'/UGformerV1_PyTorch'))\n",
    "sys.path.append(os.path.abspath(git_repo_dir+'/UGformerV1_PyTorch/log_uniform'))\n",
    "# install from the log_uniform.pyx file. If not, the `import log_uniform` default to `log_uniform.*.so`\n",
    "pyximport.install()\n",
    "os.chdir('/home/jupyter/complex_SVs/edit')\n",
    "os.chdir(git_repo_dir+'/UGformerV1_PyTorch')\n",
    "# =============================================================================\n",
    "\n",
    "from UGformerV1_UnSup import *\n",
    "from argparse import ArgumentParser, ArgumentDefaultsHelpFormatter\n",
    "from scipy.sparse import coo_matrix\n",
    "from util import *\n",
    "from sklearn.linear_model import LogisticRegression\n",
    "import statistics\n",
    "\n",
    "device = torch.device(\"cuda\" if torch.cuda.is_available() else \"cpu\")\n",
    "if torch.cuda.is_available():\n",
    "    torch.cuda.manual_seed_all(123)"
   ]
  },
  {
   "cell_type": "markdown",
   "metadata": {},
   "source": [
    "## Prep Args"
   ]
  },
  {
   "cell_type": "code",
   "execution_count": 17,
   "metadata": {},
   "outputs": [],
   "source": [
    "os.chdir(git_repo_dir+'/UGformerV1_PyTorch')\n",
    "\n",
    "import argparse\n",
    "args = argparse.Namespace()\n",
    "args.run_folder = '../'\n",
    "args.dataset = 'custom'\n",
    "args.learning_rate = 0.001\n",
    "args.batch_size = 8\n",
    "args.num_epochs = 50\n",
    "args.model_name = 'complexSV'\n",
    "args.sampled_num = 512\n",
    "args.dropout = 0.5\n",
    "args.num_hidden_layers = 1\n",
    "args.num_timesteps = 2\n",
    "args.ff_hidden_size = 1024\n",
    "args.num_neighbors = 10\n",
    "args.fold_idx = 1"
   ]
  },
  {
   "cell_type": "markdown",
   "metadata": {
    "heading_collapsed": true
   },
   "source": [
    "## Load data"
   ]
  },
  {
   "cell_type": "code",
   "execution_count": 18,
   "metadata": {
    "hidden": true
   },
   "outputs": [
    {
     "name": "stdout",
     "output_type": "stream",
     "text": [
      "Loading data...\n",
      "90\n"
     ]
    }
   ],
   "source": [
    "# Load data\n",
    "print(\"Loading data...\")\n",
    "\n",
    "use_degree_as_tag = False\n",
    "    \n",
    "graphs = load_data_from_nx(nx_files)\n",
    "num_classes = 1\n",
    "graph_labels = np.array([graph.label for graph in graphs])\n",
    "feature_dim_size = graphs[0].node_features.shape[1]\n",
    "print(feature_dim_size)"
   ]
  },
  {
   "cell_type": "markdown",
   "metadata": {
    "hidden": true
   },
   "source": [
    "Everything is now adapted from [code here](https://github.com/daiquocnguyen/Graph-Transformer/blob/master/UGformerV1_PyTorch/train_UGformerV1_UnSup.py#L148)"
   ]
  },
  {
   "cell_type": "code",
   "execution_count": 19,
   "metadata": {
    "hidden": true
   },
   "outputs": [
    {
     "name": "stdout",
     "output_type": "stream",
     "text": [
      "Beginning graph pool\n",
      "Loading data... finished!\n"
     ]
    }
   ],
   "source": [
    "def get_Adj_matrix(batch_graph):\n",
    "    edge_mat_list = []\n",
    "    start_idx = [0]\n",
    "    for i, graph in enumerate(batch_graph):\n",
    "        start_idx.append(start_idx[i] + len(graph.g))\n",
    "        edge_mat_list.append(graph.edge_mat + start_idx[i])\n",
    "\n",
    "    Adj_block_idx = np.concatenate(edge_mat_list, 1)\n",
    "    # Adj_block_elem = np.ones(Adj_block_idx.shape[1])\n",
    "\n",
    "    Adj_block_idx_row = Adj_block_idx[0,:]\n",
    "    Adj_block_idx_cl = Adj_block_idx[1,:]\n",
    "\n",
    "    return Adj_block_idx_row, Adj_block_idx_cl\n",
    "\n",
    "def get_graphpool(batch_graph):\n",
    "    start_idx = [0]\n",
    "    # compute the padded neighbor list\n",
    "    for i, graph in enumerate(batch_graph):\n",
    "        start_idx.append(start_idx[i] + len(graph.g))\n",
    "\n",
    "    idx = []\n",
    "    elem = []\n",
    "    for i, graph in enumerate(batch_graph):\n",
    "        elem.extend([1] * len(graph.g))\n",
    "        idx.extend([[i, j] for j in range(start_idx[i], start_idx[i + 1], 1)])\n",
    "\n",
    "    elem = torch.FloatTensor(elem)\n",
    "    idx = torch.LongTensor(idx).transpose(0, 1)\n",
    "    graph_pool = torch.sparse.FloatTensor(idx, elem, torch.Size([len(batch_graph), start_idx[-1]]))\n",
    "\n",
    "    return graph_pool.to(device)\n",
    "\n",
    "print('Beginning graph pool')\n",
    "graph_pool = get_graphpool(graphs)\n",
    "graph_indices = graph_pool._indices()[0]\n",
    "vocab_size=graph_pool.size()[1]\n",
    "\n",
    "def get_idx_nodes(selected_graph_idx):\n",
    "    idx_nodes = [torch.where(graph_indices==i)[0] for i in selected_graph_idx]\n",
    "    idx_nodes = torch.cat(idx_nodes)\n",
    "    return idx_nodes.to(device)\n",
    "\n",
    "def get_batch_data(selected_idx):\n",
    "    batch_graph = [graphs[idx] for idx in selected_idx]\n",
    "\n",
    "    X_concat = np.concatenate([graph.node_features for graph in batch_graph], 0)\n",
    "    if \"REDDIT\" in args.dataset:\n",
    "        X_concat = np.tile(X_concat, feature_dim_size) #[1,1,1,1]\n",
    "        X_concat = X_concat * 0.01\n",
    "    X_concat = torch.from_numpy(X_concat).to(device)\n",
    "\n",
    "    Adj_block_idx_row, Adj_block_idx_cl = get_Adj_matrix(batch_graph)\n",
    "    dict_Adj_block = {}\n",
    "    for i in range(len(Adj_block_idx_row)):\n",
    "        if Adj_block_idx_row[i] not in dict_Adj_block:\n",
    "            dict_Adj_block[Adj_block_idx_row[i]] = []\n",
    "        dict_Adj_block[Adj_block_idx_row[i]].append(Adj_block_idx_cl[i])\n",
    "\n",
    "    input_neighbors = []\n",
    "    for input_node in range(X_concat.shape[0]):\n",
    "        if input_node in dict_Adj_block:\n",
    "            input_neighbors.append([input_node] + list(np.random.choice(dict_Adj_block[input_node], args.num_neighbors, replace=True)))\n",
    "        else:\n",
    "            input_neighbors.append([input_node for _ in range(args.num_neighbors + 1)])\n",
    "    input_x = np.array(input_neighbors)\n",
    "    input_x = torch.transpose(torch.from_numpy(input_x), 0, 1).to(device)  # [seq_length, batch_size] for pytorch transformer, not [batch_size, seq_length]\n",
    "\n",
    "    input_y = get_idx_nodes(selected_idx)\n",
    "\n",
    "    return X_concat, input_x, input_y\n",
    "\n",
    "print(\"Loading data... finished!\")"
   ]
  },
  {
   "cell_type": "markdown",
   "metadata": {
    "heading_collapsed": true
   },
   "source": [
    "## Model Setup"
   ]
  },
  {
   "cell_type": "code",
   "execution_count": 20,
   "metadata": {
    "hidden": true,
    "scrolled": true
   },
   "outputs": [],
   "source": [
    "model = UGformerV1(feature_dim_size=feature_dim_size, ff_hidden_size=args.ff_hidden_size,\n",
    "                        dropout=args.dropout, num_self_att_layers=args.num_timesteps,\n",
    "                        vocab_size=vocab_size, sampled_num=args.sampled_num,\n",
    "                        num_GNN_layers=args.num_hidden_layers, device=device).to(device) #Each UGformer layer consists of a number of self-attention layers\n",
    "\n",
    "optimizer = torch.optim.Adam(model.parameters(), lr=args.learning_rate)\n",
    "num_batches_per_epoch = int((len(graphs) - 1) / args.batch_size) + 1\n",
    "scheduler = torch.optim.lr_scheduler.StepLR(optimizer, step_size=num_batches_per_epoch, gamma=0.1)\n",
    "\n",
    "def train():\n",
    "    model.train() # Turn on the train mode\n",
    "    total_loss = 0.\n",
    "    indices = np.arange(0, len(graphs))\n",
    "    np.random.shuffle(indices)\n",
    "    for start in range(0, len(graphs), args.batch_size):\n",
    "        end = start + args.batch_size\n",
    "        selected_idx = indices[start:end]\n",
    "        X_concat, input_x, input_y = get_batch_data(selected_idx)\n",
    "        optimizer.zero_grad()\n",
    "        logits = model(X_concat, input_x, input_y)\n",
    "        loss = torch.sum(logits)\n",
    "        loss.backward()\n",
    "        torch.nn.utils.clip_grad_norm_(model.parameters(), 0.5)\n",
    "        optimizer.step()\n",
    "        total_loss += loss.item()\n",
    "\n",
    "    return total_loss"
   ]
  },
  {
   "cell_type": "markdown",
   "metadata": {
    "heading_collapsed": true
   },
   "source": [
    "## Debug training"
   ]
  },
  {
   "cell_type": "code",
   "execution_count": 21,
   "metadata": {
    "hidden": true
   },
   "outputs": [
    {
     "name": "stdout",
     "output_type": "stream",
     "text": [
      "tensor([[0.0000, 0.0000, 0.0000,  ..., 0.3013, 0.2776, 0.1267],\n",
      "        [0.0000, 0.0000, 0.0000,  ..., 0.3013, 0.2776, 0.1267],\n",
      "        [0.0000, 0.0000, 0.0000,  ..., 0.3013, 0.2776, 0.1267],\n",
      "        ...,\n",
      "        [0.0000, 0.0000, 0.0000,  ..., 0.3013, 0.2494, 0.2008],\n",
      "        [0.0000, 0.0000, 0.0000,  ..., 0.3013, 0.2494, 0.2008],\n",
      "        [0.0000, 0.0000, 0.0000,  ..., 0.3013, 0.2494, 0.2008]],\n",
      "       device='cuda:0')\n",
      "tensor([[ 0,  1,  2,  3,  4,  5,  6,  7,  8,  9, 10, 11, 12, 13, 14, 15, 16, 17,\n",
      "         18],\n",
      "        [ 2,  2,  1,  3,  5,  4,  8,  6, 12,  6,  9,  7,  9, 12, 16, 14, 14, 18,\n",
      "         14],\n",
      "        [ 2,  2,  0,  3,  5,  4,  7, 10,  6,  8,  9,  9,  9, 10, 15, 14, 18, 18,\n",
      "         16],\n",
      "        [ 2,  2,  1,  3,  5,  4,  8,  9,  9,  6,  8,  7,  8,  9, 16, 14, 15, 18,\n",
      "         14],\n",
      "        [ 2,  2,  0,  3,  5,  4,  8, 11,  9, 10,  6,  7,  7, 10, 15, 14, 14, 18,\n",
      "         17]], device='cuda:0')\n",
      "tensor([17169, 17170, 17171, 10731, 10732, 10733, 25852, 25853, 25854, 25855,\n",
      "        25856, 25857, 25858, 25859, 84596, 84597, 84598, 84599, 84600],\n",
      "       device='cuda:0')\n",
      "tensor([[-0.8434,  1.3067, -0.8508,  ...,  0.5884,  0.0236, -0.0242],\n",
      "        [-0.7841,  0.6539, -0.3992,  ...,  2.3642,  0.3327,  0.6069],\n",
      "        [-0.9993, -0.1829, -0.5758,  ...,  0.9528,  0.6778, -0.0542],\n",
      "        ...,\n",
      "        [-0.5902,  1.8889, -0.8876,  ..., -0.3484, -1.0037,  0.6994],\n",
      "        [-1.3866,  0.3835, -0.4418,  ..., -0.6980, -0.0860, -0.0299],\n",
      "        [-1.1076,  1.1173, -0.0829,  ..., -0.0774, -0.9705,  0.3280]],\n",
      "       device='cuda:0', grad_fn=<SelectBackward0>)\n"
     ]
    }
   ],
   "source": [
    "indices = np.arange(0, len(graphs))\n",
    "np.random.shuffle(indices)\n",
    "start = 0\n",
    "end = start + args.batch_size\n",
    "selected_idx = indices[start:end]\n",
    "X_concat, input_x, input_y = get_batch_data(selected_idx)\n",
    "print(X_concat)\n",
    "print(input_x)\n",
    "print(input_y)\n",
    "print(model.ugformer_layers[0](F.embedding(input_x, X_concat))[0])"
   ]
  },
  {
   "cell_type": "markdown",
   "metadata": {
    "heading_collapsed": true
   },
   "source": [
    "## Training the model"
   ]
  },
  {
   "cell_type": "code",
   "execution_count": 22,
   "metadata": {
    "hidden": true
   },
   "outputs": [
    {
     "name": "stdout",
     "output_type": "stream",
     "text": [
      "Writing to /home/jupyter/complex_SVs/edit/runs_UGformerV2_UnSup/complexSV\n",
      "\n",
      "| epoch   1 | time: 45.59s | loss 487578.47 | \n",
      "| epoch   2 | time: 45.77s | loss 474592.76 | \n",
      "| epoch   3 | time: 45.98s | loss 475072.12 | \n",
      "| epoch   4 | time: 45.87s | loss 477384.35 | \n",
      "| epoch   5 | time: 45.88s | loss 482262.80 | \n",
      "| epoch   6 | time: 46.03s | loss 485427.78 | \n",
      "| epoch   7 | time: 45.72s | loss 489189.79 | \n",
      "| epoch   8 | time: 46.03s | loss 494058.37 | \n",
      "| epoch   9 | time: 45.81s | loss 495690.61 | \n",
      "| epoch  10 | time: 45.59s | loss 498286.32 | \n",
      "| epoch  11 | time: 45.94s | loss 497741.24 | \n",
      "| epoch  12 | time: 45.85s | loss 500519.18 | \n",
      "| epoch  13 | time: 45.75s | loss 502205.80 | \n",
      "| epoch  14 | time: 45.88s | loss 502948.69 | \n",
      "| epoch  15 | time: 45.65s | loss 505026.35 | \n",
      "| epoch  16 | time: 45.82s | loss 503671.05 | \n",
      "| epoch  17 | time: 47.21s | loss 504967.95 | \n",
      "| epoch  18 | time: 46.03s | loss 505551.93 | \n",
      "| epoch  19 | time: 45.86s | loss 505833.28 | \n",
      "| epoch  20 | time: 45.99s | loss 508382.65 | \n",
      "| epoch  21 | time: 46.08s | loss 504831.99 | \n",
      "| epoch  22 | time: 45.93s | loss 506137.21 | \n",
      "| epoch  23 | time: 45.86s | loss 507451.72 | \n",
      "| epoch  24 | time: 46.02s | loss 508913.79 | \n",
      "| epoch  25 | time: 45.88s | loss 507188.19 | \n",
      "| epoch  26 | time: 45.75s | loss 509203.70 | \n",
      "| epoch  27 | time: 45.87s | loss 510720.34 | \n",
      "| epoch  28 | time: 46.03s | loss 507307.90 | \n",
      "| epoch  29 | time: 45.77s | loss 506980.81 | \n",
      "| epoch  30 | time: 46.12s | loss 507969.02 | \n",
      "| epoch  31 | time: 45.90s | loss 510437.19 | \n",
      "| epoch  32 | time: 45.99s | loss 508120.42 | \n",
      "| epoch  33 | time: 46.14s | loss 508352.77 | \n",
      "| epoch  34 | time: 45.80s | loss 504595.71 | \n",
      "| epoch  35 | time: 45.76s | loss 511036.91 | \n",
      "| epoch  36 | time: 45.84s | loss 510334.73 | \n",
      "| epoch  37 | time: 46.07s | loss 510249.49 | \n",
      "| epoch  38 | time: 45.97s | loss 513073.60 | \n",
      "| epoch  39 | time: 45.89s | loss 506574.20 | \n",
      "| epoch  40 | time: 45.94s | loss 507278.50 | \n",
      "| epoch  41 | time: 46.01s | loss 510642.28 | \n",
      "| epoch  42 | time: 45.87s | loss 507989.85 | \n",
      "| epoch  43 | time: 46.00s | loss 510308.99 | \n",
      "| epoch  44 | time: 45.93s | loss 507819.30 | \n",
      "| epoch  45 | time: 45.99s | loss 508845.63 | \n",
      "| epoch  46 | time: 46.04s | loss 507437.94 | \n",
      "| epoch  47 | time: 46.91s | loss 510196.60 | \n",
      "| epoch  48 | time: 45.79s | loss 510672.89 | \n",
      "| epoch  49 | time: 45.88s | loss 506877.32 | \n",
      "| epoch  50 | time: 46.09s | loss 509789.20 | \n"
     ]
    }
   ],
   "source": [
    "\"\"\"main process\"\"\"\n",
    "import os\n",
    "out_dir = os.path.abspath(os.path.join(args.run_folder, \"../runs_UGformerV2_UnSup\", args.model_name))\n",
    "print(\"Writing to {}\\n\".format(out_dir))\n",
    "# Checkpoint directory\n",
    "checkpoint_dir = os.path.abspath(os.path.join(out_dir, \"checkpoints\"))\n",
    "checkpoint_prefix = os.path.join(checkpoint_dir, \"model\")\n",
    "if not os.path.exists(checkpoint_dir):\n",
    "    os.makedirs(checkpoint_dir)\n",
    "write_acc = open(checkpoint_prefix + '_acc.txt', 'w')\n",
    "\n",
    "cost_loss = []\n",
    "\n",
    "for epoch in range(1, args.num_epochs + 1):\n",
    "    epoch_start_time = time.time()\n",
    "    train_loss = train()\n",
    "    cost_loss.append(train_loss)\n",
    "    # We don't have true labels, so we cannot run the evaluate function\n",
    "    # mean_10folds, std_10folds = evaluate()\n",
    "    # print('| epoch {:3d} | time: {:5.2f}s | loss {:5.2f} | mean {:5.2f} | std {:5.2f} | '.format(\n",
    "                # epoch, (time.time() - epoch_start_time), train_loss, mean_10folds*100, std_10folds*100))\n",
    "\n",
    "    print('| epoch {:3d} | time: {:5.2f}s | loss {:5.2f} | '.format(\n",
    "            epoch, (time.time() - epoch_start_time), train_loss))\n",
    "\n",
    "    if epoch > 5 and cost_loss[-1] > np.mean(cost_loss[-6:-1]):\n",
    "        scheduler.step()\n",
    "\n",
    "    write_acc.write('epoch ' + str(epoch) + '\\n')\n",
    "\n",
    "write_acc.close()"
   ]
  },
  {
   "cell_type": "code",
   "execution_count": 23,
   "metadata": {
    "hidden": true
   },
   "outputs": [],
   "source": [
    "torch.save(model.state_dict(), home_dir+'/model.pt')"
   ]
  },
  {
   "cell_type": "markdown",
   "metadata": {},
   "source": [
    "## Visualization"
   ]
  },
  {
   "cell_type": "code",
   "execution_count": 24,
   "metadata": {},
   "outputs": [],
   "source": [
    "model = UGformerV1(feature_dim_size=feature_dim_size, ff_hidden_size=args.ff_hidden_size,\n",
    "                        dropout=args.dropout, num_self_att_layers=args.num_timesteps,\n",
    "                        vocab_size=vocab_size, sampled_num=args.sampled_num,\n",
    "                        num_GNN_layers=args.num_hidden_layers, device=device).to(device) #Each UGformer layer consists of a number of self-attention layers\n",
    "model.load_state_dict(torch.load(home_dir+'/model.pt'))\n",
    "\n",
    "model.eval() # Turn on the evaluation mode\n",
    "with torch.no_grad():\n",
    "    # evaluating\n",
    "    node_embeddings = model.ss.weight\n",
    "    graph_embeddings = torch.spmm(graph_pool, node_embeddings).data.cpu().numpy()"
   ]
  },
  {
   "cell_type": "code",
   "execution_count": 25,
   "metadata": {},
   "outputs": [
    {
     "name": "stderr",
     "output_type": "stream",
     "text": [
      "/tmp/ipykernel_867/3417790278.py:9: UserWarning: No data for colormapping provided via 'c'. Parameters 'cmap' will be ignored\n",
      "  plt.scatter(embedding[:, 0], embedding[:, 1], s=2, cmap='Spectral')\n"
     ]
    },
    {
     "data": {
      "image/png": "[encoded data removed]",
      "text/plain": [
       "<Figure size 1000x600 with 2 Axes>"
      ]
     },
     "metadata": {},
     "output_type": "display_data"
    }
   ],
   "source": [
    "import umap.umap_ as umap\n",
    "\n",
    "# UMAP dimensionality reduction\n",
    "reducer = umap.UMAP()\n",
    "embedding = reducer.fit_transform(graph_embeddings)\n",
    "\n",
    "# Plotting\n",
    "plt.figure(figsize=(10, 6))\n",
    "plt.scatter(embedding[:, 0], embedding[:, 1], s=2, cmap='Spectral')\n",
    "plt.title('UMAP Visualization of Graph Embeddings')\n",
    "plt.xlabel('UMAP 1')\n",
    "plt.ylabel('UMAP 2')\n",
    "plt.colorbar()\n",
    "plt.show()"
   ]
  },
  {
   "cell_type": "code",
   "execution_count": 28,
   "metadata": {},
   "outputs": [
    {
     "data": {
      "text/plain": [
       "(10579, 90)"
      ]
     },
     "execution_count": 28,
     "metadata": {},
     "output_type": "execute_result"
    }
   ],
   "source": [
    "graph_embeddings.shape"
   ]
  },
  {
   "cell_type": "code",
   "execution_count": null,
   "metadata": {},
   "outputs": [],
   "source": []
  }
 ],
 "metadata": {
  "kernelspec": {
   "display_name": "Python 3",
   "language": "python",
   "name": "python3"
  },
  "language_info": {
   "codemirror_mode": {
    "name": "ipython",
    "version": 3
   },
   "file_extension": ".py",
   "mimetype": "text/x-python",
   "name": "python",
   "nbconvert_exporter": "python",
   "pygments_lexer": "ipython3",
   "version": "3.10.12"
  },
  "toc": {
   "base_numbering": 1,
   "nav_menu": {},
   "number_sections": true,
   "sideBar": true,
   "skip_h1_title": false,
   "title_cell": "Table of Contents",
   "title_sidebar": "Contents",
   "toc_cell": false,
   "toc_position": {
    "height": "calc(100% - 180px)",
    "left": "10px",
    "top": "150px",
    "width": "290px"
   },
   "toc_section_display": true,
   "toc_window_display": false
  }
 },
 "nbformat": 4,
 "nbformat_minor": 2
}
